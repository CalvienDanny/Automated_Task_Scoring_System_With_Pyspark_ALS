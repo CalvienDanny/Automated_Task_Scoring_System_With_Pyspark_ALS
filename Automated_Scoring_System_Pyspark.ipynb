{
 "cells": [
  {
   "cell_type": "code",
   "execution_count": 2,
   "metadata": {},
   "outputs": [],
   "source": [
    "from pyspark.sql import SparkSession\n",
    "from pyspark.sql.types import *\n",
    "from pyspark.sql.functions import *\n",
    "from pyspark.ml.feature import HashingTF, Tokenizer, StopWordsRemover, IDF\n",
    "from pyspark.ml import Pipeline\n",
    "from pyspark.ml.recommendation import ALS\n",
    "from pyspark.ml.evaluation import RegressionEvaluator"
   ]
  },
  {
   "cell_type": "code",
   "execution_count": 3,
   "metadata": {},
   "outputs": [],
   "source": [
    "appName = \"task automated scoring system\"\n",
    "spark = SparkSession \\\n",
    "    .builder \\\n",
    "    .appName(appName) \\\n",
    "    .config(\"spark.some.config.option\", \"some-value\") \\\n",
    "    .getOrCreate()"
   ]
  },
  {
   "cell_type": "code",
   "execution_count": 4,
   "metadata": {},
   "outputs": [
    {
     "name": "stdout",
     "output_type": "stream",
     "text": [
      "+----------+------------+--------------------+----+-------------+\n",
      "|       npm|nama_peserta|             jawaban|soal|skor_per_soal|\n",
      "+----------+------------+--------------------+----+-------------+\n",
      "|         0|       Admin|Tidak, Hanya memb...|   1|        100.0|\n",
      "|         0|       Admin|Biaya dihitung be...|   2|        100.0|\n",
      "|         0|       Admin|Hak cipta adalah ...|   3|        100.0|\n",
      "|         0|       Admin|Dijelaskan kepada...|   4|        100.0|\n",
      "|         0|       Admin|1. Melindungi dan...|   5|        100.0|\n",
      "|         0|       Admin|Ruang Komputer, P...|   6|        100.0|\n",
      "|         0|       Admin|Aturlah posisi pe...|   7|        100.0|\n",
      "|         0|       Admin|Posisi Kepala dan...|   8|        100.0|\n",
      "|         0|       Admin|1. Kecocokan soft...|   9|        100.0|\n",
      "|         0|       Admin|1. Fokus dan expo...|  10|        100.0|\n",
      "|         0|       Admin|1. Peralatan yang...|  11|        100.0|\n",
      "|         0|       Admin|1. Dibuat grafik ...|  12|        100.0|\n",
      "|1121020033|          AP|tidak, cuma mengi...|   1|         52.7|\n",
      "|1121020033|          AP|biaya dihitung be...|   2|        42.86|\n",
      "|1121020033|          AP|hak membuat merup...|   3|        42.16|\n",
      "|1121020033|          AP|dipaparkan pada k...|   4|        27.19|\n",
      "|1121020033|          AP|1. mencegah serta...|   5|        44.14|\n",
      "|1121020033|          AP|ruang komputer, p...|   6|        100.0|\n",
      "|1121020033|          AP|aturlah posisi fi...|   7|        57.68|\n",
      "|1121020033|          AP|posisi kepala ser...|   8|        45.71|\n",
      "+----------+------------+--------------------+----+-------------+\n",
      "only showing top 20 rows\n",
      "\n",
      "+----------+--------------------+----+-------------+\n",
      "|       npm|             jawaban|soal|skor_per_soal|\n",
      "+----------+--------------------+----+-------------+\n",
      "|         0|Tidak, Hanya memb...|   1|        100.0|\n",
      "|         0|Biaya dihitung be...|   2|        100.0|\n",
      "|         0|Hak cipta adalah ...|   3|        100.0|\n",
      "|         0|Dijelaskan kepada...|   4|        100.0|\n",
      "|         0|1. Melindungi dan...|   5|        100.0|\n",
      "|         0|Ruang Komputer, P...|   6|        100.0|\n",
      "|         0|Aturlah posisi pe...|   7|        100.0|\n",
      "|         0|Posisi Kepala dan...|   8|        100.0|\n",
      "|         0|1. Kecocokan soft...|   9|        100.0|\n",
      "|         0|1. Fokus dan expo...|  10|        100.0|\n",
      "|         0|1. Peralatan yang...|  11|        100.0|\n",
      "|         0|1. Dibuat grafik ...|  12|        100.0|\n",
      "|1121020033|tidak, cuma mengi...|   1|         52.7|\n",
      "|1121020033|biaya dihitung be...|   2|        42.86|\n",
      "|1121020033|hak membuat merup...|   3|        42.16|\n",
      "|1121020033|dipaparkan pada k...|   4|        27.19|\n",
      "|1121020033|1. mencegah serta...|   5|        44.14|\n",
      "|1121020033|ruang komputer, p...|   6|        100.0|\n",
      "|1121020033|aturlah posisi fi...|   7|        57.68|\n",
      "|1121020033|posisi kepala ser...|   8|        45.71|\n",
      "+----------+--------------------+----+-------------+\n",
      "only showing top 20 rows\n",
      "\n",
      "+----------+--------------------+----+-------------+-----------+\n",
      "|       npm|             jawaban|soal|skor_per_soal|  HashValue|\n",
      "+----------+--------------------+----+-------------+-----------+\n",
      "|         0|Tidak, Hanya memb...|   1|        100.0|-2059296905|\n",
      "|         0|Biaya dihitung be...|   2|        100.0| 1183180174|\n",
      "|         0|Hak cipta adalah ...|   3|        100.0| 1232762403|\n",
      "|         0|Dijelaskan kepada...|   4|        100.0|-2035408785|\n",
      "|         0|1. Melindungi dan...|   5|        100.0| 1588395990|\n",
      "|         0|Ruang Komputer, P...|   6|        100.0|  339970513|\n",
      "|         0|Aturlah posisi pe...|   7|        100.0|   50850002|\n",
      "|         0|Posisi Kepala dan...|   8|        100.0| -945877996|\n",
      "|         0|1. Kecocokan soft...|   9|        100.0| 1576366224|\n",
      "|         0|1. Fokus dan expo...|  10|        100.0|-1905649442|\n",
      "|         0|1. Peralatan yang...|  11|        100.0|  550139146|\n",
      "|         0|1. Dibuat grafik ...|  12|        100.0| 1727767227|\n",
      "|1121020033|tidak, cuma mengi...|   1|         52.7| 1947733435|\n",
      "|1121020033|biaya dihitung be...|   2|        42.86|-1139863335|\n",
      "|1121020033|hak membuat merup...|   3|        42.16|  122676417|\n",
      "|1121020033|dipaparkan pada k...|   4|        27.19|-1054163002|\n",
      "|1121020033|1. mencegah serta...|   5|        44.14| 1990940339|\n",
      "|1121020033|ruang komputer, p...|   6|        100.0| 1770907636|\n",
      "|1121020033|aturlah posisi fi...|   7|        57.68| -463479969|\n",
      "|1121020033|posisi kepala ser...|   8|        45.71| -412537011|\n",
      "+----------+--------------------+----+-------------+-----------+\n",
      "only showing top 20 rows\n",
      "\n"
     ]
    }
   ],
   "source": [
    "df = spark.read.csv(\"C:/Users/LENOVO/OneDrive/Documents/Tugasku/big data b/rtm5/data.csv\", inferSchema=True, header=True)\n",
    "df.show()\n",
    "\n",
    "df = df.select('npm', 'jawaban', 'soal', 'skor_per_soal')\n",
    "df.show()\n",
    "\n",
    "from pyspark.sql.functions import hash, abs\n",
    "df = df.withColumn(\"HashValue\", hash(\"jawaban\"))\n",
    "df.show()"
   ]
  },
  {
   "cell_type": "code",
   "execution_count": 5,
   "metadata": {},
   "outputs": [],
   "source": [
    "splits = df.randomSplit([0.8, 0.2], seed=1234)\n",
    "train = splits[0].withColumnRenamed(\"skor_per_soal\", \"label\")\n",
    "test = splits[1].withColumnRenamed(\"skor_per_soal\", \"trueLabel\")"
   ]
  },
  {
   "cell_type": "code",
   "execution_count": 6,
   "metadata": {},
   "outputs": [
    {
     "name": "stdout",
     "output_type": "stream",
     "text": [
      "Jumlah baris data training: 89 , jumlah baris data testing: 31\n"
     ]
    }
   ],
   "source": [
    "train_rows = train.count()\n",
    "test_rows = test.count()\n",
    "print (\"Jumlah baris data training:\", train_rows, \n",
    "       \", jumlah baris data testing:\", test_rows)"
   ]
  },
  {
   "cell_type": "code",
   "execution_count": 7,
   "metadata": {},
   "outputs": [
    {
     "name": "stdout",
     "output_type": "stream",
     "text": [
      "+----------+--------------------+----+-----+-----------+\n",
      "|       npm|             jawaban|soal|label|  HashValue|\n",
      "+----------+--------------------+----+-----+-----------+\n",
      "|         0|1. Dibuat grafik ...|  12|100.0| 1727767227|\n",
      "|         0|1. Kecocokan soft...|   9|100.0| 1576366224|\n",
      "|         0|1. Melindungi dan...|   5|100.0| 1588395990|\n",
      "|         0|Aturlah posisi pe...|   7|100.0|   50850002|\n",
      "|         0|Biaya dihitung be...|   2|100.0| 1183180174|\n",
      "|         0|Dijelaskan kepada...|   4|100.0|-2035408785|\n",
      "|         0|Hak cipta adalah ...|   3|100.0| 1232762403|\n",
      "|         0|Posisi Kepala dan...|   8|100.0| -945877996|\n",
      "|         0|Ruang Komputer, P...|   6|100.0|  339970513|\n",
      "|         0|Tidak, Hanya memb...|   1|100.0|-2059296905|\n",
      "|1120020017|aturlah posisi pe...|   7|86.22|-1392782412|\n",
      "|1120020017|biaya dihitung be...|   2|84.52| -219318287|\n",
      "|1120020017|dibuat grafik yan...|  12|86.53| -902409772|\n",
      "|1120020017|dijelaskan kepada...|   4|72.06| -683553012|\n",
      "|1120020017|emperbanyak cipta...|   3|47.67|  944450734|\n",
      "|1120020017|fokus dan exposur...|  10|85.75| 1988679646|\n",
      "|1120020017|kecocokan softwar...|   9|65.89|-1544668284|\n",
      "|1120020017|memlihara sumber ...|   5| 88.3|   40672765|\n",
      "|1120020017|peralatan yang di...|  11|80.09|-1838887780|\n",
      "|1120020017|posisi tubuh, pos...|   6|90.37|-1702735646|\n",
      "+----------+--------------------+----+-----+-----------+\n",
      "only showing top 20 rows\n",
      "\n",
      "+----------+--------------------+----+---------+-----------+\n",
      "|       npm|             jawaban|soal|trueLabel|  HashValue|\n",
      "+----------+--------------------+----+---------+-----------+\n",
      "|         0|1. Fokus dan expo...|  10|    100.0|-1905649442|\n",
      "|         0|1. Peralatan yang...|  11|    100.0|  550139146|\n",
      "|1120020017|posisi kepala dan...|   8|    89.17| 1044171719|\n",
      "|1121020024|aturlah posisi pe...|   7|    100.0| 1123192925|\n",
      "|1121020024|biaya dihitung be...|   2|    100.0| 1176853507|\n",
      "|1121020024|dibuat grafik yan...|  12|    64.29| 1086045397|\n",
      "|1121020024|dijelaskan kepada...|   4|    57.94|  -97531001|\n",
      "|1121020032|aturlah posisi pe...|   7|    86.22|  288994945|\n",
      "|1121020032|posisi kepala dan...|   8|    89.17| 1044171719|\n",
      "|1121020032|tidak, hanya memb...|   1|    100.0| -256638840|\n",
      "|1121020033|biaya dihitung be...|   2|    42.86|-1139863335|\n",
      "|1121020033|metode digital ar...|  12|    26.94|  594634975|\n",
      "|1121020033|posisi kepala ser...|   8|    45.71| -412537011|\n",
      "|1121020033|ruang komputer, p...|   6|    100.0| 1770907636|\n",
      "|1121020035|hak cipta adalah ...|   3|    83.43|-1876419705|\n",
      "|1121020035|okus dan exposure...|  10|    48.51|  164678636|\n",
      "|1121020035|tidak, hanya memb...|   1|    100.0| -256638840|\n",
      "|1121020036|aturlah posisi pe...|   7|    86.22|-1392782412|\n",
      "|1121020036|fokus dan exposur...|  10|    87.03|-1961878003|\n",
      "|1220020018|aturlah posisi pe...|   7|    86.22|-1392782412|\n",
      "+----------+--------------------+----+---------+-----------+\n",
      "only showing top 20 rows\n",
      "\n"
     ]
    }
   ],
   "source": [
    "train.show()\n",
    "test.show()"
   ]
  },
  {
   "cell_type": "code",
   "execution_count": 10,
   "metadata": {},
   "outputs": [
    {
     "name": "stdout",
     "output_type": "stream",
     "text": [
      "+----------+--------------------+----+---------+-----------+-----------------+\n",
      "|       npm|             jawaban|soal|trueLabel|  HashValue|       prediction|\n",
      "+----------+--------------------+----+---------+-----------+-----------------+\n",
      "|1220020018|dibuat grafik yan...|  12|    86.53| -902409772|86.52997589111328|\n",
      "|1121020032|tidak, hanya memb...|   1|    100.0| -256638840|99.99993896484375|\n",
      "|1121020035|tidak, hanya memb...|   1|    100.0| -256638840|99.99993896484375|\n",
      "|1121020033|ruang komputer, p...|   6|    100.0| 1770907636|99.99995422363281|\n",
      "|1220020018|ruang komputer, p...|   6|    100.0| 1770907636|99.99995422363281|\n",
      "|1121020035|hak cipta adalah ...|   3|    83.43|-1876419705|83.42996978759766|\n",
      "|1220020018|hak cipta adalah ...|   3|    91.71|  770340049|91.70994567871094|\n",
      "|1220020018|melindungi dan me...|   5|    74.73|-1932865057|   74.72998046875|\n",
      "|1220020029|kecocokan softwar...|   9|    84.88|-1092404005|84.87995910644531|\n",
      "|1220020023|kecocokan softwar...|   9|    65.89|  447829639|65.88997650146484|\n",
      "|1120020017|posisi kepala dan...|   8|    89.17| 1044171719|89.16996765136719|\n",
      "|1121020032|posisi kepala dan...|   8|    89.17| 1044171719|89.16996765136719|\n",
      "|1220020023|posisi kepala dan...|   8|    100.0| 1782344444|99.99996948242188|\n",
      "|1121020036|aturlah posisi pe...|   7|    86.22|-1392782412|86.21995544433594|\n",
      "|1220020018|aturlah posisi pe...|   7|    86.22|-1392782412|86.21995544433594|\n",
      "|1121020024|biaya dihitung be...|   2|    100.0| 1176853507|99.99995422363281|\n",
      "+----------+--------------------+----+---------+-----------+-----------------+\n",
      "\n"
     ]
    }
   ],
   "source": [
    "# Aktifkan strategi cold start untuk menghapus prediksi NaN\n",
    "als = ALS(maxIter=5, regParam=0.01, userCol='HashValue', itemCol='soal', ratingCol='label')\n",
    "model = als.fit(train)\n",
    "model.setColdStartStrategy(\"drop\")\n",
    "predictions = model.transform(test)\n",
    "\n",
    "# Mengisi prediksi NaN dengan rata-rata skor\n",
    "avg_score = train.select(mean(\"label\")).first()[0]\n",
    "predictions = predictions.withColumn(\n",
    "    \"prediction\", \n",
    "    when(col(\"prediction\").isNull(), avg_score).otherwise(col(\"prediction\"))\n",
    ")\n",
    "\n",
    "predictions.show()\n"
   ]
  },
  {
   "cell_type": "code",
   "execution_count": 13,
   "metadata": {},
   "outputs": [
    {
     "name": "stdout",
     "output_type": "stream",
     "text": [
      "Root Mean Square Error (RMSE): 4.167011583199324e-05\n",
      "Mean Absolute Error (MAE): 3.976821899431826e-05\n",
      "R-squared (R2): 0.9999999999818238\n"
     ]
    }
   ],
   "source": [
    "# Evaluasi akurasi model\n",
    "evaluator_rmse = RegressionEvaluator(metricName=\"rmse\", labelCol=\"trueLabel\", predictionCol=\"prediction\")\n",
    "evaluator_mae = RegressionEvaluator(metricName=\"mae\", labelCol=\"trueLabel\", predictionCol=\"prediction\")\n",
    "evaluator_r2 = RegressionEvaluator(metricName=\"r2\", labelCol=\"trueLabel\", predictionCol=\"prediction\")\n",
    "\n",
    "rmse = evaluator_rmse.evaluate(predictions)\n",
    "mae = evaluator_mae.evaluate(predictions)\n",
    "r2 = evaluator_r2.evaluate(predictions)\n",
    "\n",
    "print(f\"Root Mean Square Error (RMSE): {rmse}\")\n",
    "print(f\"Mean Absolute Error (MAE): {mae}\")\n",
    "print(f\"R-squared (R2): {r2}\")"
   ]
  }
 ],
 "metadata": {
  "kernelspec": {
   "display_name": "Python 3",
   "language": "python",
   "name": "python3"
  },
  "language_info": {
   "codemirror_mode": {
    "name": "ipython",
    "version": 3
   },
   "file_extension": ".py",
   "mimetype": "text/x-python",
   "name": "python",
   "nbconvert_exporter": "python",
   "pygments_lexer": "ipython3",
   "version": "3.12.0"
  }
 },
 "nbformat": 4,
 "nbformat_minor": 2
}
